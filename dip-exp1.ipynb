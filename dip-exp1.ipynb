{
 "cells": [
  {
   "cell_type": "code",
   "execution_count": 32,
   "id": "862df658",
   "metadata": {},
   "outputs": [],
   "source": [
    "import cv2\n",
    "import random"
   ]
  },
  {
   "cell_type": "code",
   "execution_count": 40,
   "id": "a54610ba",
   "metadata": {},
   "outputs": [
    {
     "data": {
      "text/plain": [
       "-1"
      ]
     },
     "execution_count": 40,
     "metadata": {},
     "output_type": "execute_result"
    }
   ],
   "source": [
    "# To Read,display the image\n",
    "color= cv2.imread('flower.png',1)\n",
    "cv2.imshow('212221230124 VISHRANTHI A',color)\n",
    "cv2.waitKey(0)"
   ]
  },
  {
   "cell_type": "code",
   "execution_count": 41,
   "id": "60a67df5",
   "metadata": {},
   "outputs": [
    {
     "data": {
      "text/plain": [
       "True"
      ]
     },
     "execution_count": 41,
     "metadata": {},
     "output_type": "execute_result"
    }
   ],
   "source": [
    "#To write the image\n",
    "cv2.imwrite('VISHRANTHI A.png',color)"
   ]
  },
  {
   "cell_type": "code",
   "execution_count": 42,
   "id": "6c89d549",
   "metadata": {},
   "outputs": [
    {
     "name": "stdout",
     "output_type": "stream",
     "text": [
      "(433, 599, 3)\n"
     ]
    }
   ],
   "source": [
    "#Find the shape of the Image\n",
    "print(color.shape)"
   ]
  },
  {
   "cell_type": "code",
   "execution_count": 43,
   "id": "49ee81c7",
   "metadata": {
    "scrolled": true
   },
   "outputs": [
    {
     "data": {
      "text/plain": [
       "-1"
      ]
     },
     "execution_count": 43,
     "metadata": {},
     "output_type": "execute_result"
    }
   ],
   "source": [
    "#To access rows and columns\n",
    "color= cv2.imread('flower.png',1)\n",
    "for i in range(100):\n",
    "    for j in range(color.shape[1]):\n",
    "        color[i][j] = [random.randint(0,255),random.randint(0,255),random.randint(0,255)]\n",
    "cv2.imshow('212221230124 VISHRANTHI A',color)\n",
    "cv2.waitKey(0)"
   ]
  },
  {
   "cell_type": "code",
   "execution_count": null,
   "id": "94fb1593",
   "metadata": {},
   "outputs": [],
   "source": [
    "#To cut and paste portion of image\n",
    "color= cv2.imread('flower.png',1)\n",
    "tag=color[200:300,200:300]\n",
    "color[100:200,100:200]=tag\n",
    "cv2.imshow('212221230124 VISHRANTHI A',color)\n",
    "cv2.waitKey(0)\n",
    "cv2.destroyAllWindows()"
   ]
  }
 ],
 "metadata": {
  "kernelspec": {
   "display_name": "Python 3 (ipykernel)",
   "language": "python",
   "name": "python3"
  },
  "language_info": {
   "codemirror_mode": {
    "name": "ipython",
    "version": 3
   },
   "file_extension": ".py",
   "mimetype": "text/x-python",
   "name": "python",
   "nbconvert_exporter": "python",
   "pygments_lexer": "ipython3",
   "version": "3.9.13"
  }
 },
 "nbformat": 4,
 "nbformat_minor": 5
}
